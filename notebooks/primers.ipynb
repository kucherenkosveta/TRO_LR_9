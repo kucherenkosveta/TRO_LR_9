{
 "cells": [
  {
   "cell_type": "markdown",
   "id": "dca2226a",
   "metadata": {},
   "source": [
    "# Примеры лабораторной работы"
   ]
  },
  {
   "cell_type": "code",
   "execution_count": 1,
   "id": "132f0365",
   "metadata": {},
   "outputs": [],
   "source": [
    "import cv2\n",
    "import numpy as np"
   ]
  },
  {
   "cell_type": "code",
   "execution_count": 6,
   "id": "c51fb617",
   "metadata": {},
   "outputs": [],
   "source": [
    "img = cv2.imread('cat.jpeg', 0)"
   ]
  },
  {
   "cell_type": "code",
   "execution_count": 7,
   "id": "1c05603c",
   "metadata": {},
   "outputs": [],
   "source": [
    "ret, thresh = cv2.threshold(img, 0, 255, 0)\n",
    "contours, hierarchy = cv2.findContours(thresh, 5, 5)\n",
    "cnt = contours[0]"
   ]
  },
  {
   "cell_type": "markdown",
   "id": "2bd69b4b",
   "metadata": {},
   "source": [
    "###### 3.1.1. Площадь, ограниченная контуром"
   ]
  },
  {
   "cell_type": "code",
   "execution_count": 8,
   "id": "adae73b3",
   "metadata": {},
   "outputs": [
    {
     "data": {
      "text/plain": [
       "3682561.0"
      ]
     },
     "execution_count": 8,
     "metadata": {},
     "output_type": "execute_result"
    }
   ],
   "source": [
    "area = cv2.contourArea(cnt)\n",
    "area"
   ]
  },
  {
   "cell_type": "markdown",
   "id": "11df4ee6",
   "metadata": {},
   "source": [
    "###### 3.1.2. Длина контурного периметра"
   ]
  },
  {
   "cell_type": "code",
   "execution_count": 9,
   "id": "ca61484f",
   "metadata": {},
   "outputs": [
    {
     "data": {
      "text/plain": [
       "7676.0"
      ]
     },
     "execution_count": 9,
     "metadata": {},
     "output_type": "execute_result"
    }
   ],
   "source": [
    "cv2.arcLength(cnt, 1)"
   ]
  },
  {
   "cell_type": "markdown",
   "id": "4b7148eb",
   "metadata": {},
   "source": [
    "###### 3.1.3. Моменты"
   ]
  },
  {
   "cell_type": "code",
   "execution_count": 29,
   "id": "3bd76a05",
   "metadata": {},
   "outputs": [
    {
     "data": {
      "text/plain": [
       "{'m00': 3682561.0,\n",
       " 'm10': 3533417279.5,\n",
       " 'm01': 3533417279.5,\n",
       " 'm20': 4520418506240.333,\n",
       " 'm11': 3390313879680.25,\n",
       " 'm02': 4520418506240.333,\n",
       " 'm30': 6506012335106149.0,\n",
       " 'm21': 4337341556737600.0,\n",
       " 'm12': 4337341556737600.0,\n",
       " 'm03': 6506012335106400.0,\n",
       " 'mu20': 1130104626560.0825,\n",
       " 'mu11': -0.00048828125,\n",
       " 'mu02': 1130104626560.0825,\n",
       " 'mu30': -250.0,\n",
       " 'mu21': 0.75,\n",
       " 'mu12': 0.75,\n",
       " 'mu03': 1.0,\n",
       " 'nu20': 0.08333333333333329,\n",
       " 'nu11': -3.6005607985627815e-17,\n",
       " 'nu02': 0.08333333333333329,\n",
       " 'nu30': -9.60649884765057e-15,\n",
       " 'nu21': 2.881949654295171e-17,\n",
       " 'nu12': 2.881949654295171e-17,\n",
       " 'nu03': 3.842599539060228e-17}"
      ]
     },
     "execution_count": 29,
     "metadata": {},
     "output_type": "execute_result"
    }
   ],
   "source": [
    "cv2.moments(cnt)"
   ]
  },
  {
   "cell_type": "markdown",
   "id": "80b589be",
   "metadata": {},
   "source": [
    "###### 3.1.4. Отношение ширины к высоте ограничивающего прямоугольника"
   ]
  },
  {
   "cell_type": "code",
   "execution_count": 30,
   "id": "50aeab5e",
   "metadata": {},
   "outputs": [],
   "source": [
    "x, y, w, h = cv2.boundingRect(cnt)"
   ]
  },
  {
   "cell_type": "code",
   "execution_count": 31,
   "id": "52035a15",
   "metadata": {},
   "outputs": [
    {
     "data": {
      "text/plain": [
       "1.0"
      ]
     },
     "execution_count": 31,
     "metadata": {},
     "output_type": "execute_result"
    }
   ],
   "source": [
    "float(w)/h"
   ]
  },
  {
   "cell_type": "markdown",
   "id": "fc07cd8f",
   "metadata": {},
   "source": [
    "###### 3.1.5. Отношение площади контура к площади ограничивающего прямоугольника"
   ]
  },
  {
   "cell_type": "code",
   "execution_count": 35,
   "id": "3a959994",
   "metadata": {},
   "outputs": [],
   "source": [
    "arr = w * h\n",
    "ar = cv2.contourArea(cnt)"
   ]
  },
  {
   "cell_type": "code",
   "execution_count": 37,
   "id": "79898c93",
   "metadata": {},
   "outputs": [
    {
     "data": {
      "text/plain": [
       "1.0010424810342584"
      ]
     },
     "execution_count": 37,
     "metadata": {},
     "output_type": "execute_result"
    }
   ],
   "source": [
    "extent = float(arr) / ar\n",
    "extent"
   ]
  },
  {
   "cell_type": "markdown",
   "id": "0fdd6b24",
   "metadata": {},
   "source": [
    "###### 3.1.6. Эквивалентный диаметр"
   ]
  },
  {
   "cell_type": "code",
   "execution_count": 39,
   "id": "e07b4905",
   "metadata": {},
   "outputs": [],
   "source": [
    "ar = cv2.contourArea(cnt)"
   ]
  },
  {
   "cell_type": "code",
   "execution_count": 40,
   "id": "36dfd98e",
   "metadata": {},
   "outputs": [
    {
     "data": {
      "text/plain": [
       "2165.3596216562887"
      ]
     },
     "execution_count": 40,
     "metadata": {},
     "output_type": "execute_result"
    }
   ],
   "source": [
    "eqdiam = np.sqrt(4*ar / np.pi)\n",
    "eqdiam"
   ]
  },
  {
   "cell_type": "markdown",
   "id": "d1d15189",
   "metadata": {},
   "source": [
    "###### Задание 3.1. \n",
    "Вычислить площадь s, периметр р, ширину w, высоту h, отношение ширины к высоте w/h, отношение площади изображения к площади описывающего прямоугольника s/(wh), эквивалентный диаметр, центр масс, моменты бинарного изображения."
   ]
  },
  {
   "cell_type": "code",
   "execution_count": 3,
   "id": "06da27f7",
   "metadata": {},
   "outputs": [],
   "source": [
    "import cv2\n",
    "import numpy as np"
   ]
  },
  {
   "cell_type": "code",
   "execution_count": 4,
   "id": "474b401d",
   "metadata": {},
   "outputs": [],
   "source": [
    "img = cv2.imread('cat.jpeg', 0)\n",
    "imag = cv2.imread('cat.jpeg', 0)"
   ]
  },
  {
   "cell_type": "code",
   "execution_count": 5,
   "id": "6a44832c",
   "metadata": {},
   "outputs": [],
   "source": [
    "ret, thresh = cv2.threshold(img, 0, 255, 0)\n",
    "contours, hierarchy = cv2.findContours(thresh, 5, 5)\n",
    "cnt = contours[0]"
   ]
  },
  {
   "cell_type": "code",
   "execution_count": 6,
   "id": "3d496740",
   "metadata": {},
   "outputs": [
    {
     "name": "stdout",
     "output_type": "stream",
     "text": [
      "3682561.0\n"
     ]
    }
   ],
   "source": [
    "ar = cv2.contourArea(cnt)\n",
    "print(ar)"
   ]
  },
  {
   "cell_type": "code",
   "execution_count": 7,
   "id": "edc89e5f",
   "metadata": {},
   "outputs": [
    {
     "name": "stdout",
     "output_type": "stream",
     "text": [
      "7676.0\n"
     ]
    }
   ],
   "source": [
    "prm = cv2.arcLength(cnt, 1)\n",
    "print(prm)"
   ]
  },
  {
   "cell_type": "code",
   "execution_count": 8,
   "id": "7d2673c1",
   "metadata": {},
   "outputs": [
    {
     "name": "stdout",
     "output_type": "stream",
     "text": [
      "{'m00': 3682561.0, 'm10': 3533417279.5, 'm01': 3533417279.5, 'm20': 4520418506240.333, 'm11': 3390313879680.25, 'm02': 4520418506240.333, 'm30': 6506012335106149.0, 'm21': 4337341556737600.0, 'm12': 4337341556737600.0, 'm03': 6506012335106400.0, 'mu20': 1130104626560.0825, 'mu11': -0.00048828125, 'mu02': 1130104626560.0825, 'mu30': -250.0, 'mu21': 0.75, 'mu12': 0.75, 'mu03': 1.0, 'nu20': 0.08333333333333329, 'nu11': -3.6005607985627815e-17, 'nu02': 0.08333333333333329, 'nu30': -9.60649884765057e-15, 'nu21': 2.881949654295171e-17, 'nu12': 2.881949654295171e-17, 'nu03': 3.842599539060228e-17}\n"
     ]
    }
   ],
   "source": [
    "M = cv2.moments(cnt)\n",
    "print(M)"
   ]
  },
  {
   "cell_type": "code",
   "execution_count": 9,
   "id": "7c464b39",
   "metadata": {},
   "outputs": [
    {
     "name": "stdout",
     "output_type": "stream",
     "text": [
      "0 0 1920 1920\n"
     ]
    }
   ],
   "source": [
    "x, y, w, h = cv2.boundingRect(cnt)\n",
    "print(x, y, w, h)"
   ]
  },
  {
   "cell_type": "code",
   "execution_count": 59,
   "id": "e028ddc7",
   "metadata": {},
   "outputs": [],
   "source": [
    "imag = cv2.rectangle(imag, (x, y), (x+w, y+h), (0, 255, 0), 2)\n",
    "cv2.imshow('Rectan', imag)"
   ]
  },
  {
   "cell_type": "code",
   "execution_count": null,
   "id": "d7befbeb",
   "metadata": {},
   "outputs": [
    {
     "name": "stdout",
     "output_type": "stream",
     "text": [
      "1.0 0.9989586046006944\n",
      "2165.3596216562887\n"
     ]
    }
   ],
   "source": [
    "asprat = float(w) / h\n",
    "rectar = w * h\n",
    "extent = float(ar) / rectar\n",
    "eqdiam = np.sqrt(4*ar / np.pi)\n",
    "\n",
    "print(asprat, extent)\n",
    "print(eqdiam)\n",
    "cv2.waitKey(0)"
   ]
  },
  {
   "cell_type": "markdown",
   "id": "cbc3a92f",
   "metadata": {},
   "source": [
    "###### 3.2.1. Маска и пиксельные точки"
   ]
  },
  {
   "cell_type": "code",
   "execution_count": 29,
   "id": "576fb17e",
   "metadata": {},
   "outputs": [],
   "source": [
    "import cv2\n",
    "import numpy as np"
   ]
  },
  {
   "cell_type": "code",
   "execution_count": 30,
   "id": "3962d3ad",
   "metadata": {},
   "outputs": [],
   "source": [
    "img = cv2.imread(\"cat.jpeg\", 0)\n",
    "mask = np.zeros(img.shape, np.uint8)\n",
    "\n",
    "cv2.drawContours(mask, [cnt], 0, 255, -1)\n",
    "pixpoints = np.transpose(np.nonzero(mask))\n",
    "pixpoints = cv2.findNonZero(mask)"
   ]
  },
  {
   "cell_type": "markdown",
   "id": "ee2e5a15",
   "metadata": {},
   "source": [
    "###### 3.2.2. Максимальное и минимальное значения и их координаты"
   ]
  },
  {
   "cell_type": "code",
   "execution_count": 38,
   "id": "23f9e87f",
   "metadata": {},
   "outputs": [
    {
     "name": "stdout",
     "output_type": "stream",
     "text": [
      "0.0 255.0 (877, 0) (695, 402)\n"
     ]
    }
   ],
   "source": [
    "minval, maxval, minloc, maxloc = cv2.minMaxLoc(img, mask=mask)\n",
    "print(minval, maxval, minloc, maxloc)"
   ]
  },
  {
   "cell_type": "markdown",
   "id": "ab0b1fab",
   "metadata": {},
   "source": [
    "###### 3.2.3. Крайние точки"
   ]
  },
  {
   "cell_type": "code",
   "execution_count": 37,
   "id": "f7bfacf1",
   "metadata": {},
   "outputs": [
    {
     "name": "stdout",
     "output_type": "stream",
     "text": [
      "(0, 0) (1919, 0) (0, 0) (1919, 1919)\n"
     ]
    }
   ],
   "source": [
    "leftmost = tuple(cnt[cnt[:, :, 0].argmin()][0])\n",
    "rightmost = tuple(cnt[cnt[:,:,0].argmax()][0])\n",
    "topmost = tuple(cnt[cnt[:,:,1].argmin()][0])\n",
    "bottommost = tuple(cnt[cnt[:,:,1].argmax()][0])\n",
    "print(leftmost, rightmost, topmost, bottommost)"
   ]
  },
  {
   "cell_type": "markdown",
   "id": "6985a89a",
   "metadata": {},
   "source": [
    "###### 3.2.4. Средняя интенсивность"
   ]
  },
  {
   "cell_type": "code",
   "execution_count": 40,
   "id": "f3f5689f",
   "metadata": {},
   "outputs": [
    {
     "data": {
      "text/plain": [
       "(76.24194200303819, 0.0, 0.0, 0.0)"
      ]
     },
     "execution_count": 40,
     "metadata": {},
     "output_type": "execute_result"
    }
   ],
   "source": [
    "mean_val = cv2.mean(img, mask=mask)\n",
    "mean_val"
   ]
  },
  {
   "cell_type": "markdown",
   "id": "172f5358",
   "metadata": {},
   "source": [
    "###### 3.2.5. Ориентация"
   ]
  },
  {
   "cell_type": "code",
   "execution_count": 41,
   "id": "6f895abe",
   "metadata": {},
   "outputs": [],
   "source": [
    "import cv2\n",
    "import numpy as np"
   ]
  },
  {
   "cell_type": "code",
   "execution_count": 42,
   "id": "30bf2d50",
   "metadata": {},
   "outputs": [],
   "source": [
    "img = cv2.imread('cat.jpeg', 0)"
   ]
  },
  {
   "cell_type": "code",
   "execution_count": 44,
   "id": "6755aa55",
   "metadata": {},
   "outputs": [],
   "source": [
    "ret,thresh = cv2.threshold(img,0,255,0)\n",
    "contours, hierarchy = cv2.findContours(thresh, 5, 5)\n",
    "cnt = contours[0]"
   ]
  },
  {
   "cell_type": "code",
   "execution_count": 45,
   "id": "09fd9424",
   "metadata": {},
   "outputs": [
    {
     "name": "stdout",
     "output_type": "stream",
     "text": [
      "179.98919677734375\n"
     ]
    }
   ],
   "source": [
    "(x, y), (MA, ma), ang = cv2.fitEllipse(cnt)\n",
    "print(ang)"
   ]
  },
  {
   "cell_type": "markdown",
   "id": "45d738a9",
   "metadata": {},
   "source": [
    "###### Задание 3.2. \n",
    "Используя изображение маски определить крайние точки, минимальное и максимальное значения и их координаты для бинарного изображения. Найти среднюю интенсивность изображения в градациях серого, ориентацию бинарного изображения с выделенной осью."
   ]
  },
  {
   "cell_type": "code",
   "execution_count": 2,
   "id": "e36f2d9c",
   "metadata": {},
   "outputs": [],
   "source": [
    "import cv2\n",
    "import numpy as np"
   ]
  },
  {
   "cell_type": "code",
   "execution_count": 3,
   "id": "eee7bb77",
   "metadata": {},
   "outputs": [],
   "source": [
    "img = cv2.imread('cat.jpeg', 0)"
   ]
  },
  {
   "cell_type": "code",
   "execution_count": 4,
   "id": "fe764106",
   "metadata": {},
   "outputs": [],
   "source": [
    "ret, thresh = cv2.threshold(img, 0, 255, 0)\n",
    "contours, hierarchy = cv2.findContours(thresh, 5, 5)\n",
    "cnt = contours[0]"
   ]
  },
  {
   "cell_type": "code",
   "execution_count": 5,
   "id": "4eff48aa",
   "metadata": {},
   "outputs": [],
   "source": [
    "mask = np.zeros(img.shape, np.uint8)\n",
    "\n",
    "cv2.drawContours(mask, [cnt], 0, 255, -1)\n",
    "pixpoin = np.transpose(np.nonzero(mask))\n",
    "minv, maxv, minl, maxl = cv2.minMaxLoc(img, mask=mask)"
   ]
  },
  {
   "cell_type": "code",
   "execution_count": 6,
   "id": "a1e1febe",
   "metadata": {},
   "outputs": [],
   "source": [
    "leftmost = tuple(cnt[cnt[:, :, 0].argmin()][0])\n",
    "rightmost = tuple(cnt[cnt[:, :, 0].argmax()][0])\n",
    "topmost = tuple(cnt[cnt[:, :, 1].argmin()][0])\n",
    "bottommost = tuple(cnt[cnt[:, :, 1].argmax()][0])"
   ]
  },
  {
   "cell_type": "code",
   "execution_count": 7,
   "id": "9064c705",
   "metadata": {},
   "outputs": [],
   "source": [
    "(x,y),(MA,ma),ang=cv2.fitEllipse(cnt)"
   ]
  },
  {
   "cell_type": "code",
   "execution_count": 8,
   "id": "356b7312",
   "metadata": {},
   "outputs": [],
   "source": [
    "meanv = cv2.mean(img,mask = mask)"
   ]
  },
  {
   "cell_type": "code",
   "execution_count": null,
   "id": "2decce17",
   "metadata": {},
   "outputs": [
    {
     "name": "stdout",
     "output_type": "stream",
     "text": [
      "[[   0    0]\n",
      " [   0    1]\n",
      " [   0    2]\n",
      " ...\n",
      " [1919 1917]\n",
      " [1919 1918]\n",
      " [1919 1919]]\n",
      "0.0 255.0 (877, 0) (695, 402)\n",
      "(0, 0) (1919, 0) (0, 0) (1919, 1919)\n",
      "(76.24194200303819, 0.0, 0.0, 0.0)\n",
      "179.98919677734375\n"
     ]
    }
   ],
   "source": [
    "print(pixpoin)\n",
    "print(minv, maxv, minl, maxl)\n",
    "print(leftmost, rightmost, topmost, bottommost)\n",
    "print(meanv)\n",
    "print(ang)\n",
    "cv2.waitKey(0)"
   ]
  }
 ],
 "metadata": {
  "kernelspec": {
   "display_name": "Python 3 (ipykernel)",
   "language": "python",
   "name": "python3"
  },
  "language_info": {
   "codemirror_mode": {
    "name": "ipython",
    "version": 3
   },
   "file_extension": ".py",
   "mimetype": "text/x-python",
   "name": "python",
   "nbconvert_exporter": "python",
   "pygments_lexer": "ipython3",
   "version": "3.9.13"
  }
 },
 "nbformat": 4,
 "nbformat_minor": 5
}
