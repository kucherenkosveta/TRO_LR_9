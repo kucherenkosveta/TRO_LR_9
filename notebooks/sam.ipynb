{
 "cells": [
  {
   "cell_type": "markdown",
   "id": "deaef426",
   "metadata": {},
   "source": [
    "# Самостоятельное задание"
   ]
  },
  {
   "cell_type": "markdown",
   "id": "295b3d62",
   "metadata": {},
   "source": [
    "Загружаем изображение с белым фоном и черными линиями на нем, создаем бинарное изображение и выводим на экран количество линий на изображении. Затем находим центральную точку каждой линии и выводим координаты этих точек на экран."
   ]
  },
  {
   "cell_type": "code",
   "execution_count": 60,
   "id": "08fa5e0f",
   "metadata": {},
   "outputs": [],
   "source": [
    "import cv2"
   ]
  },
  {
   "cell_type": "markdown",
   "id": "caa6ebad",
   "metadata": {},
   "source": [
    "Загружаем изображение и преобразуем в градации серого. "
   ]
  },
  {
   "cell_type": "code",
   "execution_count": 70,
   "id": "5385a491",
   "metadata": {},
   "outputs": [],
   "source": [
    "img = cv2.imread('bin.png')\n",
    "gray = cv2.cvtColor(img, cv2.COLOR_BGR2GRAY)"
   ]
  },
  {
   "cell_type": "markdown",
   "id": "d53f446e",
   "metadata": {},
   "source": [
    "Находим контуры на бинарном изображении."
   ]
  },
  {
   "cell_type": "code",
   "execution_count": 67,
   "id": "c784bf9b",
   "metadata": {},
   "outputs": [],
   "source": [
    "ret, thresh = cv2.threshold(gray, 200, 255, cv2.THRESH_BINARY_INV)\n",
    "contours, hierarchy = cv2.findContours(thresh, cv2.RETR_EXTERNAL, cv2.CHAIN_APPROX_SIMPLE)"
   ]
  },
  {
   "cell_type": "code",
   "execution_count": 68,
   "id": "00bf6ecd",
   "metadata": {},
   "outputs": [
    {
     "name": "stdout",
     "output_type": "stream",
     "text": [
      "Number of lines: 11\n"
     ]
    }
   ],
   "source": [
    "print('Number of lines:', len(contours))"
   ]
  },
  {
   "cell_type": "markdown",
   "id": "95fbe0b8",
   "metadata": {},
   "source": [
    "Находим центральные точки каждой линии.\n",
    "\n",
    "Формула для нахождения координат центра масс контура в двумерном пространстве:\n",
    "$$ cX = \\frac{M_{10}}{M_{00}} $$\n",
    "$$ cY = \\frac{M_{01}}{M_{00}} $$\n",
    "\n",
    "где $ M_{00}, M_{10}$ и $M_{01}$ - это нормализованные моменты контура первого и нулевого порядка."
   ]
  },
  {
   "cell_type": "code",
   "execution_count": 69,
   "id": "acf12482",
   "metadata": {},
   "outputs": [
    {
     "name": "stdout",
     "output_type": "stream",
     "text": [
      "Line 1: (299, 81)\n",
      "Line 2: (271, 81)\n",
      "Line 3: (242, 81)\n",
      "Line 4: (213, 81)\n",
      "Line 5: (183, 81)\n",
      "Line 6: (154, 81)\n",
      "Line 7: (124, 81)\n",
      "Line 8: (95, 81)\n",
      "Line 9: (66, 81)\n",
      "Line 10: (36, 81)\n",
      "Line 11: (7, 81)\n"
     ]
    }
   ],
   "source": [
    "for i, contour in enumerate(contours):\n",
    "    moments = cv2.moments(contour)\n",
    "    cX = int(moments[\"m10\"] / moments[\"m00\"])\n",
    "    cY = int(moments[\"m01\"] / moments[\"m00\"])\n",
    "    print(f'Line {i+1}: ({cX}, {cY})')"
   ]
  }
 ],
 "metadata": {
  "kernelspec": {
   "display_name": "Python 3 (ipykernel)",
   "language": "python",
   "name": "python3"
  },
  "language_info": {
   "codemirror_mode": {
    "name": "ipython",
    "version": 3
   },
   "file_extension": ".py",
   "mimetype": "text/x-python",
   "name": "python",
   "nbconvert_exporter": "python",
   "pygments_lexer": "ipython3",
   "version": "3.9.13"
  }
 },
 "nbformat": 4,
 "nbformat_minor": 5
}
