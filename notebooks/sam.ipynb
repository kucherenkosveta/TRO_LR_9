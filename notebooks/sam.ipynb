{
 "cells": [
  {
   "cell_type": "markdown",
   "id": "deaef426",
   "metadata": {},
   "source": [
    "# Самостоятельное задание"
   ]
  },
  {
   "cell_type": "markdown",
   "id": "295b3d62",
   "metadata": {},
   "source": [
    "Загрузить изображение с белым фоном и черными линиями на нем, создать бинарное изображение и вывести на экран количество линий на изображении, а также найти центральную точку каждой линии и вывести координаты этих точек на экран."
   ]
  },
  {
   "cell_type": "code",
   "execution_count": 19,
   "id": "08fa5e0f",
   "metadata": {},
   "outputs": [],
   "source": [
    "import cv2\n",
    "import numpy as np\n",
    "import matplotlib.pyplot as plt"
   ]
  },
  {
   "cell_type": "markdown",
   "id": "caa6ebad",
   "metadata": {},
   "source": [
    "Загружаем изображение и преобразуем в градации серого. "
   ]
  },
  {
   "cell_type": "code",
   "execution_count": 20,
   "id": "5385a491",
   "metadata": {},
   "outputs": [],
   "source": [
    "img = cv2.imread('bin.png')\n",
    "gray = cv2.cvtColor(img, cv2.COLOR_BGR2GRAY)"
   ]
  },
  {
   "cell_type": "markdown",
   "id": "d53f446e",
   "metadata": {},
   "source": [
    "Находим контуры на бинарном изображении."
   ]
  },
  {
   "cell_type": "code",
   "execution_count": 21,
   "id": "c784bf9b",
   "metadata": {},
   "outputs": [],
   "source": [
    "ret, thresh = cv2.threshold(gray, 200, 255, cv2.THRESH_BINARY_INV)\n",
    "contours, hierarchy = cv2.findContours(thresh, cv2.RETR_EXTERNAL, cv2.CHAIN_APPROX_SIMPLE)"
   ]
  },
  {
   "cell_type": "code",
   "execution_count": 22,
   "id": "00bf6ecd",
   "metadata": {},
   "outputs": [
    {
     "name": "stdout",
     "output_type": "stream",
     "text": [
      "Number of lines: 11\n"
     ]
    }
   ],
   "source": [
    "print('Number of lines:', len(contours))"
   ]
  },
  {
   "cell_type": "markdown",
   "id": "95fbe0b8",
   "metadata": {},
   "source": [
    "Находим центральные точки каждой линии.\n",
    "\n",
    "Формула для нахождения координат центра масс контура в двумерном пространстве:\n",
    "$$ cX = \\frac{M_{10}}{M_{00}} $$\n",
    "$$ cY = \\frac{M_{01}}{M_{00}} $$\n",
    "\n",
    "где $ M_{00}, M_{10}$ и $M_{01}$ - это нормализованные моменты контура первого и нулевого порядка."
   ]
  },
  {
   "cell_type": "code",
   "execution_count": 23,
   "id": "acf12482",
   "metadata": {},
   "outputs": [
    {
     "name": "stdout",
     "output_type": "stream",
     "text": [
      "Line 1: (299, 81)\n",
      "Line 2: (271, 81)\n",
      "Line 3: (242, 81)\n",
      "Line 4: (213, 81)\n",
      "Line 5: (183, 81)\n",
      "Line 6: (154, 81)\n",
      "Line 7: (124, 81)\n",
      "Line 8: (95, 81)\n",
      "Line 9: (66, 81)\n",
      "Line 10: (36, 81)\n",
      "Line 11: (7, 81)\n"
     ]
    }
   ],
   "source": [
    "for i, contour in enumerate(contours):\n",
    "    moments = cv2.moments(contour)\n",
    "    cX = int(moments[\"m10\"] / moments[\"m00\"])\n",
    "    cY = int(moments[\"m01\"] / moments[\"m00\"])\n",
    "    print(f'Line {i+1}: ({cX}, {cY})')"
   ]
  },
  {
   "cell_type": "markdown",
   "id": "50c42f0b",
   "metadata": {},
   "source": [
    "Визуализируем контуры и выводим изображения."
   ]
  },
  {
   "cell_type": "code",
   "execution_count": 45,
   "id": "26c70c1b",
   "metadata": {},
   "outputs": [
    {
     "data": {
      "image/png": "[encoded data removed]",
      "text/plain": [
       "<Figure size 1200x600 with 2 Axes>"
      ]
     },
     "metadata": {},
     "output_type": "display_data"
    }
   ],
   "source": [
    "img_contours = np.zeros_like(img)\n",
    "cv2.drawContours(img_contours, contours, -1, 255, 3)\n",
    "\n",
    "plt.figure(figsize=(12,6))\n",
    "plt.subplot(121) plt.imshow(img) plt.title('Original')\n",
    "plt.xticks([]) plt.yticks([])\n",
    "\n",
    "plt.subplot(122) plt.imshow(img_contours) plt.title('Contours')\n",
    "plt.xticks([]) plt.yticks([])\n",
    "\n",
    "plt.show()"
   ]
  }
 ],
 "metadata": {
  "kernelspec": {
   "display_name": "Python 3 (ipykernel)",
   "language": "python",
   "name": "python3"
  },
  "language_info": {
   "codemirror_mode": {
    "name": "ipython",
    "version": 3
   },
   "file_extension": ".py",
   "mimetype": "text/x-python",
   "name": "python",
   "nbconvert_exporter": "python",
   "pygments_lexer": "ipython3",
   "version": "3.9.13"
  }
 },
 "nbformat": 4,
 "nbformat_minor": 5
}
